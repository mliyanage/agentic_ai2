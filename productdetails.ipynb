{
 "cells": [
  {
   "cell_type": "code",
   "execution_count": 7,
   "id": "770c51a7",
   "metadata": {},
   "outputs": [
    {
     "data": {
      "text/plain": [
       "{'item_number': '10023',\n",
       " 'category': 'In-Ear Headphones',\n",
       " 'description': 'JBL Wave 200TWS, JBL Deep Bass Sound, 20 Hours of Combined Playback, Either Ear, or Both, Calls and Voice Assistant with Touch Control, Comfort-fit, Black',\n",
       " 'price': 9999,\n",
       " 'product_information': 'Style: True Wireless Stick\\nColour: BLACK\\nBrand\\tJBL\\nColour\\tBLACK\\nEar placement\\tIn Ear\\nForm factor\\tIn Ear\\nNoise control\\tActive Noise Cancellation'}"
      ]
     },
     "execution_count": 7,
     "metadata": {},
     "output_type": "execute_result"
    }
   ],
   "source": [
    "from langchain_core.prompts import ChatPromptTemplate\n",
    "from langchain_groq import ChatGroq\n",
    "from langchain_core.prompts import PromptTemplate\n",
    "from langchain_core.output_parsers import JsonOutputParser\n",
    "from pydantic import BaseModel, Field\n",
    "\n",
    "\n",
    "def fake_db_retrival():\n",
    "    # Simulating a database retrieval of product details\n",
    "    with open('product_details.txt', 'r') as file:\n",
    "        products = file.read().strip()\n",
    "    return products\n",
    "\n",
    "llm = ChatGroq(model=\"gemma2-9b-it\")\n",
    "\n",
    "# Product data structure.\n",
    "class Product(BaseModel):\n",
    "    item_number: str \n",
    "    category: str\n",
    "    description: str \n",
    "    price: int\n",
    "    product_information: str\n",
    "\n",
    "\n",
    "parser = JsonOutputParser(pydantic_object=Product)\n",
    "\n",
    "prompt = PromptTemplate(\n",
    "    template=\"Answer the user query.\\n{format_instructions}\\n{question}\\n Product details: {product_details}\",\n",
    "    input_variables=[\n",
    "    (\"system\", \"You are a product catalog sisstant. Here are the product details : {product_details}\\n Respond to the user's question about products based on product_details, and always repeat the user's question back before you respond.\"),\n",
    "    (\"user\", \"{question}\")\n",
    "],\n",
    "    partial_variables={\"format_instructions\": parser.get_format_instructions()},\n",
    ")\n",
    "\n",
    "\n",
    "chain = prompt | llm | parser\n",
    "\n",
    "question = \"Get me in ear headphones details?\"\n",
    "chain.invoke({\"question\": question, \"product_details\": fake_db_retrival()})\n"
   ]
  }
 ],
 "metadata": {
  "kernelspec": {
   "display_name": "Python 3",
   "language": "python",
   "name": "python3"
  },
  "language_info": {
   "codemirror_mode": {
    "name": "ipython",
    "version": 3
   },
   "file_extension": ".py",
   "mimetype": "text/x-python",
   "name": "python",
   "nbconvert_exporter": "python",
   "pygments_lexer": "ipython3",
   "version": "3.12.0"
  }
 },
 "nbformat": 4,
 "nbformat_minor": 5
}
