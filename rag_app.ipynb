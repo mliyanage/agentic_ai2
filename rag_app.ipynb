{
 "cells": [
  {
   "cell_type": "markdown",
   "id": "cb6c3a0b",
   "metadata": {},
   "source": [
    "1. Load the PDF"
   ]
  },
  {
   "cell_type": "code",
   "execution_count": 1,
   "id": "5b22373b",
   "metadata": {},
   "outputs": [],
   "source": [
    "### Read a PDf file\n",
    "from langchain_community.document_loaders import PyPDFLoader\n",
    "loader=PyPDFLoader('NET-Microservices.pdf')\n",
    "pages=loader.load()\n",
    "\n"
   ]
  },
  {
   "cell_type": "markdown",
   "id": "561211ab",
   "metadata": {},
   "source": [
    "2. Check the lenght of the pages array object"
   ]
  },
  {
   "cell_type": "code",
   "execution_count": 2,
   "id": "f8cfddba",
   "metadata": {},
   "outputs": [
    {
     "data": {
      "text/plain": [
       "349"
      ]
     },
     "execution_count": 2,
     "metadata": {},
     "output_type": "execute_result"
    }
   ],
   "source": [
    "len(pages)  # Number of pages loaded"
   ]
  },
  {
   "cell_type": "markdown",
   "id": "cc854b0e",
   "metadata": {},
   "source": [
    "3. Semantic Chunking (Not Fixed Length)\n",
    "This will chunk based on semantic breakpoints (e.g., sentence/paragraph ends), and keep some overlap for context preservation."
   ]
  },
  {
   "cell_type": "code",
   "execution_count": 5,
   "id": "49af5ced",
   "metadata": {},
   "outputs": [],
   "source": [
    "from langchain.text_splitter import RecursiveCharacterTextSplitter\n",
    "\n",
    "# Join all pages \n",
    "full_text = \" \".join([p.page_content for p in pages])\n",
    "\n",
    "# Use RecursiveCharacterTextSplitter with sentence-level separators\n",
    "text_splitter = RecursiveCharacterTextSplitter(\n",
    "    separators=[\"\\n\\n\", \"\\n\", \".\", \"!\", \"?\", \",\", \" \"],\n",
    "    chunk_size=1000,\n",
    "    chunk_overlap=200,\n",
    ")\n",
    "\n",
    "chunks = text_splitter.create_documents([full_text])"
   ]
  },
  {
   "cell_type": "markdown",
   "id": "29490aac",
   "metadata": {},
   "source": [
    "4. Check the lenght of the chunks"
   ]
  },
  {
   "cell_type": "code",
   "execution_count": 6,
   "id": "f50f8156",
   "metadata": {},
   "outputs": [
    {
     "data": {
      "text/plain": [
       "1006"
      ]
     },
     "execution_count": 6,
     "metadata": {},
     "output_type": "execute_result"
    }
   ],
   "source": [
    "len(chunks)  # Number of chunks created"
   ]
  },
  {
   "cell_type": "markdown",
   "id": "351ad2c3",
   "metadata": {},
   "source": [
    "5. Embeding chunks"
   ]
  },
  {
   "cell_type": "code",
   "execution_count": 9,
   "id": "7c822d61",
   "metadata": {},
   "outputs": [],
   "source": [
    "from langchain.embeddings import OpenAIEmbeddings\n",
    "\n",
    "embedding_model = OpenAIEmbeddings()\n"
   ]
  },
  {
   "cell_type": "code",
   "execution_count": null,
   "id": "87f1c4b0",
   "metadata": {},
   "outputs": [],
   "source": [
    "documents_with_embeddings = embedding_model.embed_documents([c.page_content for c in chunks])"
   ]
  },
  {
   "cell_type": "code",
   "execution_count": 39,
   "id": "87261fac",
   "metadata": {},
   "outputs": [
    {
     "data": {
      "text/plain": [
       "1006"
      ]
     },
     "execution_count": 39,
     "metadata": {},
     "output_type": "execute_result"
    }
   ],
   "source": [
    "len(documents_with_embeddings)"
   ]
  },
  {
   "cell_type": "code",
   "execution_count": 26,
   "id": "b8428a3f",
   "metadata": {},
   "outputs": [
    {
     "name": "stdout",
     "output_type": "stream",
     "text": [
      "EDITION v6.0 - Updated to ASP.NET Core 6.0 \n",
      "Refer changelog for the book updates and community contributions. \n",
      "This guide is an introduction to developing microservices-based applications and managing them \n",
      "using containers. It discusses architectural design and implementation approaches using .NET and \n",
      "Docker containers. \n",
      "To make it easier to get started, the guide focuses on a reference containerized and microservice -\n",
      "based application that you can explore. The reference application is available at the \n",
      "eShopOnContainers GitHub repo. \n",
      "Action links \n",
      "• This e-book is also available in a PDF format (English version only) Download \n",
      "• Clone/Fork the reference application eShopOnContainers on GitHub \n",
      "• Watch the introductory video \n",
      "• Get to know the Microservices Architecture right away \n",
      "Introduction \n",
      "Enterprises are increasingly realizing cost savings, solving deployment problems, and improving\n"
     ]
    }
   ],
   "source": [
    "# Display the first chunk and its embedding\n",
    "print(chunks[0].page_content)"
   ]
  },
  {
   "cell_type": "code",
   "execution_count": 28,
   "id": "1ce7eb7f",
   "metadata": {},
   "outputs": [
    {
     "name": "stdout",
     "output_type": "stream",
     "text": [
      "[0.0074204481378972505, -0.009146921000551145, 0.005873393183934531, -0.016425189699665173, -0.005558565620695548, 0.011056196664013923, -0.018402169724740538, -0.017494925504931542, -0.014989846430135772, -0.0204062326120481]\n"
     ]
    }
   ],
   "source": [
    "# Display the first 10 dimensions of the embedding\n",
    "print(documents_with_embeddings[0][:10])  "
   ]
  },
  {
   "cell_type": "code",
   "execution_count": null,
   "id": "5f3dcdca",
   "metadata": {},
   "outputs": [
    {
     "data": {
      "text/plain": [
       "1536"
      ]
     },
     "execution_count": 40,
     "metadata": {},
     "output_type": "execute_result"
    }
   ],
   "source": [
    "# dimensions of the embedding\n",
    "len(documents_with_embeddings[0])"
   ]
  },
  {
   "cell_type": "markdown",
   "id": "640558d0",
   "metadata": {},
   "source": [
    "6. Store in Monogo DB \n"
   ]
  },
  {
   "cell_type": "code",
   "execution_count": 3,
   "id": "13d13fee",
   "metadata": {},
   "outputs": [
    {
     "data": {
      "text/plain": [
       "True"
      ]
     },
     "execution_count": 3,
     "metadata": {},
     "output_type": "execute_result"
    }
   ],
   "source": [
    "import os\n",
    "from dotenv import load_dotenv\n",
    "load_dotenv() \n"
   ]
  },
  {
   "cell_type": "code",
   "execution_count": 4,
   "id": "e68ae644",
   "metadata": {},
   "outputs": [],
   "source": [
    "from pymongo import MongoClient\n",
    "from langchain_mongodb.vectorstores import MongoDBAtlasVectorSearch"
   ]
  },
  {
   "cell_type": "code",
   "execution_count": 5,
   "id": "83a05dc5",
   "metadata": {},
   "outputs": [],
   "source": [
    "client = MongoClient(os.getenv(\"MONGODB_CONNECTION_STRING\"))\n",
    "collection = client[os.getenv(\"MONGODB_NAME\")][os.getenv(\"MONGODB_COLLECTION\")]"
   ]
  },
  {
   "cell_type": "code",
   "execution_count": null,
   "id": "9e59baaf",
   "metadata": {},
   "outputs": [
    {
     "data": {
      "text/plain": [
       "DeleteResult({'n': 1006, 'electionId': ObjectId('7fffffff00000000000001d4'), 'opTime': {'ts': Timestamp(1749215903, 108), 't': 468}, 'ok': 1.0, '$clusterTime': {'clusterTime': Timestamp(1749215903, 108), 'signature': {'hash': b'\\xfc\\xb1@\\xe9L\\x193!2\\x93\\xe57\\x88(%a\\x05+\\x12\\x10', 'keyId': 7447331114961600517}}, 'operationTime': Timestamp(1749215903, 108)}, acknowledged=True)"
      ]
     },
     "execution_count": 59,
     "metadata": {},
     "output_type": "execute_result"
    }
   ],
   "source": [
    "\n",
    "# Reset w/out deleting the Search Index \n",
    "collection.delete_many({})"
   ]
  },
  {
   "cell_type": "code",
   "execution_count": 60,
   "id": "ae4250e6",
   "metadata": {},
   "outputs": [],
   "source": [
    "# Insert the documents in MongoDB Atlas with their embedding\n",
    "docsearch = MongoDBAtlasVectorSearch.from_documents(\n",
    "    chunks, embedding_model, collection=collection, index_name=os.getenv(\"MONGODB_INDEX_NAME\")\n",
    ")"
   ]
  },
  {
   "cell_type": "markdown",
   "id": "f52af657",
   "metadata": {},
   "source": [
    "7. Retrieve"
   ]
  },
  {
   "cell_type": "code",
   "execution_count": 10,
   "id": "6ac3f6e7",
   "metadata": {},
   "outputs": [],
   "source": [
    "# initialize vector store\n",
    "vectorStore = MongoDBAtlasVectorSearch(\n",
    "    collection, OpenAIEmbeddings(openai_api_key=os.getenv(\"OPENAI_API_KEY\")), index_name=os.getenv(\"MONGODB_INDEX_NAME\")\n",
    ")"
   ]
  },
  {
   "cell_type": "code",
   "execution_count": 11,
   "id": "a288474a",
   "metadata": {},
   "outputs": [
    {
     "data": {
      "text/plain": [
       "'vector_index'"
      ]
     },
     "execution_count": 11,
     "metadata": {},
     "output_type": "execute_result"
    }
   ],
   "source": [
    "os.getenv(\"MONGODB_INDEX_NAME\")"
   ]
  },
  {
   "cell_type": "code",
   "execution_count": 17,
   "id": "a719eb30",
   "metadata": {},
   "outputs": [
    {
     "data": {
      "text/plain": [
       "[Document(id='6842eace68f3870b5a129950', metadata={'_id': '6842eace68f3870b5a129950'}, page_content='A container image is a way to package an app or service and deploy it in a reliable and reproducible \\nway. You could say that Docker isn’t only a technology but also a philosophy and a process.  \\nWhen using Docker, you won’t hear developers say, “It works on my machine, why not in production?” \\nThey can simply say, “It runs on Docker”, because the packaged Docker application can be executed \\non any supported Docker environment, and it runs the way it was intended to on all deployment \\ntargets (such as Dev, QA, staging, and production). \\nA simple analogy \\nPerhaps a simple analogy can help getting the grasp of the core concept of Docker. \\nLet’s go back in time to the 1950s for a moment. There were no word processors, and the \\nphotocopiers were used everywhere (kind of). \\nImagine you’re responsible for quickly issuing batches of letters as required, to mail them to \\ncustomers, using real paper and envelopes, to be delivered physically to each customer’s address'),\n",
       " Document(id='6842eace68f3870b5a12994a', metadata={'_id': '6842eace68f3870b5a12994a'}, page_content='multiple instances of the same image across multiple host servers, you typically want each container \\n(image instance) to run in a different host server or VM in different fault domains.  \\nIn short, containers offer the benefits of isolation, portability, agility, scalability, and control across the \\nwhole application lifecycle workflow. The most important benefit is the environment’s isolation \\nprovided between Dev and Ops. \\nWhat is Docker? \\nDocker is an open-source project for automating the deployment of applications as portable, self-\\nsufficient containers that can run on the cloud or on-premises. Docker is also a company that \\npromotes and evolves this technology, working in collaboration with cloud, Linux, and Windows \\nvendors, including Microsoft. \\n \\nFigure 2-2. Docker deploys containers at all layers of the hybrid cloud. \\nDocker containers can run anywhere, on-premises in the customer datacenter, in an external service'),\n",
       " Document(id='6842eace68f3870b5a129953', metadata={'_id': '6842eace68f3870b5a129953'}, page_content='Docker terminology \\nThis section lists terms and definitions you should be familiar with before getting deeper into Docker. \\nFor further definitions, see the extensive glossary provided by Docker. \\nContainer image: A package with all the dependencies and information needed to create a container. \\nAn image includes all the dependencies (such as frameworks) plus deployment and execution \\nconfiguration to be used by a container runtime. Usually, an image derives from multiple base images \\nthat are layers stacked on top of each other to form the container’s filesystem. An image is immutable \\nonce it has been created. \\nDockerfile: A text file that contains instructions for building a Docker image. It’s like a batch script, \\nthe first line states the base image to begin with and then follow the instructions to install required \\nprograms, copy files, and so on, until you get the working environment you need.'),\n",
       " Document(id='6842eace68f3870b5a12994f', metadata={'_id': '6842eace68f3870b5a12994f'}, page_content='libraries. For Docker, the host server only has the infrastructure and the OS and on top of that, the \\ncontainer engine, that keeps container isolated but sharing the base OS services.  \\nBecause containers require far fewer resources (for example, they don’t need a full OS), they’re easy to \\ndeploy and they start fast. This allows you to have higher density, meaning that it allows you to run \\nmore services on the same hardware unit, thereby reducing costs. \\nAs a side effect of running on the same kernel, you get less isolation than VMs.  \\nThe main goal of an image is that it makes the environment (dependencies) the same across different \\ndeployments. This means that you can debug it on your machine and then deploy it to another \\nmachine with the same environment guaranteed. \\nA container image is a way to package an app or service and deploy it in a reliable and reproducible \\nway. You could say that Docker isn’t only a technology but also a philosophy and a process.'),\n",
       " Document(id='6842eace68f3870b5a129952', metadata={'_id': '6842eace68f3870b5a129952'}, page_content='align them so they look and read fine. \\n3. Finally, you place the set in the photocopier and press start to produce as many letters as \\nrequired. \\nSo, simplifying, that’s the core idea of Docker. \\nIn Docker, each layer is the resulting set of changes that happen to the filesystem after executing a \\ncommand, such as, installing a program. \\nSo, when you “look” at the filesystem after the layer has been copied, you see all the files, included in \\nthe layer when the program was installed. \\nYou can think of an image as an auxiliary read-only hard disk ready to be installed in a “computer” \\nwhere the operating system is already installed. \\nSimilarly, you can think of a container as the “computer” with the image hard disk installed. The \\ncontainer, just like a computer, can be powered on or off. \\nDocker terminology \\nThis section lists terms and definitions you should be familiar with before getting deeper into Docker. \\nFor further definitions, see the extensive glossary provided by Docker.')]"
      ]
     },
     "execution_count": 17,
     "metadata": {},
     "output_type": "execute_result"
    }
   ],
   "source": [
    "# perform a similarity search between the embedding of the query and the embeddings of the documents\n",
    "myquery = \"What is docker and how does it work?\"\n",
    "context_from_vecotore_store = vectorStore.similarity_search(query=myquery, k=5)\n",
    "\n",
    "context_from_vecotore_store"
   ]
  },
  {
   "cell_type": "code",
   "execution_count": 15,
   "id": "d33d37da",
   "metadata": {},
   "outputs": [],
   "source": [
    "from langchain_core.prompts import PromptTemplate"
   ]
  },
  {
   "cell_type": "code",
   "execution_count": 16,
   "id": "be23156f",
   "metadata": {},
   "outputs": [],
   "source": [
    "prompt=PromptTemplate(\n",
    "    template=\"\"\"You are an assistant for question-answering tasks. Use the following pieces of retrieved context to answer the question. If you don't know the answer, just say that you don't know. Use three sentences maximum and keep the answer concise.\\nQuestion: {question} \\nContext: {context} \\nAnswer:\"\"\",\n",
    "    input_variables=['context', 'question']\n",
    ")"
   ]
  },
  {
   "cell_type": "code",
   "execution_count": 18,
   "id": "29c4dc98",
   "metadata": {},
   "outputs": [
    {
     "data": {
      "text/plain": [
       "StringPromptValue(text=\"You are an assistant for question-answering tasks. Use the following pieces of retrieved context to answer the question. If you don't know the answer, just say that you don't know. Use three sentences maximum and keep the answer concise.\\nQuestion: What is Microservice Architecture? \\nContext: [Document(id='6842eace68f3870b5a129950', metadata={'_id': '6842eace68f3870b5a129950'}, page_content='A container image is a way to package an app or service and deploy it in a reliable and reproducible \\\\nway. You could say that Docker isn’t only a technology but also a philosophy and a process.  \\\\nWhen using Docker, you won’t hear developers say, “It works on my machine, why not in production?” \\\\nThey can simply say, “It runs on Docker”, because the packaged Docker application can be executed \\\\non any supported Docker environment, and it runs the way it was intended to on all deployment \\\\ntargets (such as Dev, QA, staging, and production). \\\\nA simple analogy \\\\nPerhaps a simple analogy can help getting the grasp of the core concept of Docker. \\\\nLet’s go back in time to the 1950s for a moment. There were no word processors, and the \\\\nphotocopiers were used everywhere (kind of). \\\\nImagine you’re responsible for quickly issuing batches of letters as required, to mail them to \\\\ncustomers, using real paper and envelopes, to be delivered physically to each customer’s address'), Document(id='6842eace68f3870b5a12994a', metadata={'_id': '6842eace68f3870b5a12994a'}, page_content='multiple instances of the same image across multiple host servers, you typically want each container \\\\n(image instance) to run in a different host server or VM in different fault domains.  \\\\nIn short, containers offer the benefits of isolation, portability, agility, scalability, and control across the \\\\nwhole application lifecycle workflow. The most important benefit is the environment’s isolation \\\\nprovided between Dev and Ops. \\\\nWhat is Docker? \\\\nDocker is an open-source project for automating the deployment of applications as portable, self-\\\\nsufficient containers that can run on the cloud or on-premises. Docker is also a company that \\\\npromotes and evolves this technology, working in collaboration with cloud, Linux, and Windows \\\\nvendors, including Microsoft. \\\\n \\\\nFigure 2-2. Docker deploys containers at all layers of the hybrid cloud. \\\\nDocker containers can run anywhere, on-premises in the customer datacenter, in an external service'), Document(id='6842eace68f3870b5a129953', metadata={'_id': '6842eace68f3870b5a129953'}, page_content='Docker terminology \\\\nThis section lists terms and definitions you should be familiar with before getting deeper into Docker. \\\\nFor further definitions, see the extensive glossary provided by Docker. \\\\nContainer image: A package with all the dependencies and information needed to create a container. \\\\nAn image includes all the dependencies (such as frameworks) plus deployment and execution \\\\nconfiguration to be used by a container runtime. Usually, an image derives from multiple base images \\\\nthat are layers stacked on top of each other to form the container’s filesystem. An image is immutable \\\\nonce it has been created. \\\\nDockerfile: A text file that contains instructions for building a Docker image. It’s like a batch script, \\\\nthe first line states the base image to begin with and then follow the instructions to install required \\\\nprograms, copy files, and so on, until you get the working environment you need.'), Document(id='6842eace68f3870b5a12994f', metadata={'_id': '6842eace68f3870b5a12994f'}, page_content='libraries. For Docker, the host server only has the infrastructure and the OS and on top of that, the \\\\ncontainer engine, that keeps container isolated but sharing the base OS services.  \\\\nBecause containers require far fewer resources (for example, they don’t need a full OS), they’re easy to \\\\ndeploy and they start fast. This allows you to have higher density, meaning that it allows you to run \\\\nmore services on the same hardware unit, thereby reducing costs. \\\\nAs a side effect of running on the same kernel, you get less isolation than VMs.  \\\\nThe main goal of an image is that it makes the environment (dependencies) the same across different \\\\ndeployments. This means that you can debug it on your machine and then deploy it to another \\\\nmachine with the same environment guaranteed. \\\\nA container image is a way to package an app or service and deploy it in a reliable and reproducible \\\\nway. You could say that Docker isn’t only a technology but also a philosophy and a process.'), Document(id='6842eace68f3870b5a129952', metadata={'_id': '6842eace68f3870b5a129952'}, page_content='align them so they look and read fine. \\\\n3. Finally, you place the set in the photocopier and press start to produce as many letters as \\\\nrequired. \\\\nSo, simplifying, that’s the core idea of Docker. \\\\nIn Docker, each layer is the resulting set of changes that happen to the filesystem after executing a \\\\ncommand, such as, installing a program. \\\\nSo, when you “look” at the filesystem after the layer has been copied, you see all the files, included in \\\\nthe layer when the program was installed. \\\\nYou can think of an image as an auxiliary read-only hard disk ready to be installed in a “computer” \\\\nwhere the operating system is already installed. \\\\nSimilarly, you can think of a container as the “computer” with the image hard disk installed. The \\\\ncontainer, just like a computer, can be powered on or off. \\\\nDocker terminology \\\\nThis section lists terms and definitions you should be familiar with before getting deeper into Docker. \\\\nFor further definitions, see the extensive glossary provided by Docker.')] \\nAnswer:\")"
      ]
     },
     "execution_count": 18,
     "metadata": {},
     "output_type": "execute_result"
    }
   ],
   "source": [
    "prompt.invoke({\"question\":\"What is Microservice Architecture?\",\"context\":context_from_vecotore_store})"
   ]
  },
  {
   "cell_type": "code",
   "execution_count": 21,
   "id": "714a9162",
   "metadata": {},
   "outputs": [],
   "source": [
    "from langchain_openai import OpenAI"
   ]
  },
  {
   "cell_type": "code",
   "execution_count": 22,
   "id": "8e0c76d9",
   "metadata": {},
   "outputs": [],
   "source": [
    "llm = OpenAI(model_name=\"gpt-3.5-turbo-instruct\")"
   ]
  },
  {
   "cell_type": "code",
   "execution_count": 26,
   "id": "f402490c",
   "metadata": {},
   "outputs": [],
   "source": [
    "retriever = vectorStore.as_retriever()"
   ]
  },
  {
   "cell_type": "code",
   "execution_count": 33,
   "id": "ff6c9ac7",
   "metadata": {},
   "outputs": [],
   "source": [
    "from langchain_core.output_parsers import StrOutputParser\n",
    "from langchain_core.runnables import RunnablePassthrough, RunnableLambda"
   ]
  },
  {
   "cell_type": "code",
   "execution_count": 27,
   "id": "8998282e",
   "metadata": {},
   "outputs": [],
   "source": [
    "output_parser = StrOutputParser()"
   ]
  },
  {
   "cell_type": "code",
   "execution_count": 20,
   "id": "651abc8f",
   "metadata": {},
   "outputs": [],
   "source": [
    "def format_docs(docs):\n",
    "    return \"\\n\\n\".join(doc.page_content for doc in docs)"
   ]
  },
  {
   "cell_type": "code",
   "execution_count": 29,
   "id": "7ea1cc0e",
   "metadata": {},
   "outputs": [],
   "source": [
    "from langchain_core.messages.base import BaseMessage"
   ]
  },
  {
   "cell_type": "code",
   "execution_count": 31,
   "id": "61dec677",
   "metadata": {},
   "outputs": [],
   "source": [
    "def get_question(input):\n",
    "    if not input:\n",
    "        return None\n",
    "    elif isinstance(input,str):\n",
    "        return input\n",
    "    elif isinstance(input,dict) and 'question' in input:\n",
    "        return input['question']\n",
    "    elif isinstance(input,BaseMessage):\n",
    "        return input.content\n",
    "    else:\n",
    "        raise Exception(\"string or dict with 'question' key expected as RAG chain input.\")"
   ]
  },
  {
   "cell_type": "code",
   "execution_count": 28,
   "id": "f4fd4750",
   "metadata": {},
   "outputs": [],
   "source": [
    "from langchain import hub\n",
    "rag_prompt = hub.pull(\"rlm/rag-prompt\")"
   ]
  },
  {
   "cell_type": "code",
   "execution_count": null,
   "id": "4b75fc94",
   "metadata": {},
   "outputs": [],
   "source": [
    "rag_chain = (\n",
    "        {\n",
    "            \"context\": RunnableLambda(get_question) | retriever | format_docs,\n",
    "            \"question\": RunnablePassthrough()\n",
    "        }\n",
    "        | rag_prompt\n",
    "        | llm\n",
    ")"
   ]
  },
  {
   "cell_type": "code",
   "execution_count": 39,
   "id": "d610fc5f",
   "metadata": {},
   "outputs": [
    {
     "data": {
      "text/plain": [
       "' \\nDocker is an open-source project for automating the deployment of applications as portable, self-sufficient containers that can run on the cloud or on-premises. It is also a company that promotes and evolves this technology. Docker containers offer the benefits of isolation, portability, agility, scalability, and control across the whole application lifecycle workflow. A Docker image is a package with all the dependencies and information needed to create a container. A Dockerfile is a text file that contains instructions for building a Docker image.'"
      ]
     },
     "execution_count": 39,
     "metadata": {},
     "output_type": "execute_result"
    }
   ],
   "source": [
    "rag_chain.invoke(\"What is Docker?\")"
   ]
  }
 ],
 "metadata": {
  "kernelspec": {
   "display_name": "Python 3",
   "language": "python",
   "name": "python3"
  },
  "language_info": {
   "codemirror_mode": {
    "name": "ipython",
    "version": 3
   },
   "file_extension": ".py",
   "mimetype": "text/x-python",
   "name": "python",
   "nbconvert_exporter": "python",
   "pygments_lexer": "ipython3",
   "version": "3.12.0"
  }
 },
 "nbformat": 4,
 "nbformat_minor": 5
}
